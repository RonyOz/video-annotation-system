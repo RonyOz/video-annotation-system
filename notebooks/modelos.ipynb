{
 "cells": [
  {
   "cell_type": "markdown",
   "id": "88507a16",
   "metadata": {},
   "source": [
    "# Clasificación de actividades motoras con Random Forest\n",
    "\n",
    "Este notebook implementa el pipeline completo de entrenamiento y evaluación usando Random Forest, siguiendo las recomendaciones del proyecto."
   ]
  },
  {
   "cell_type": "code",
   "execution_count": 13,
   "id": "89e2fcf1",
   "metadata": {},
   "outputs": [
    {
     "name": "stdout",
     "output_type": "stream",
     "text": [
      "Shape: (1453, 10)\n"
     ]
    },
    {
     "data": {
      "text/html": [
       "<div>\n",
       "<style scoped>\n",
       "    .dataframe tbody tr th:only-of-type {\n",
       "        vertical-align: middle;\n",
       "    }\n",
       "\n",
       "    .dataframe tbody tr th {\n",
       "        vertical-align: top;\n",
       "    }\n",
       "\n",
       "    .dataframe thead th {\n",
       "        text-align: right;\n",
       "    }\n",
       "</style>\n",
       "<table border=\"1\" class=\"dataframe\">\n",
       "  <thead>\n",
       "    <tr style=\"text-align: right;\">\n",
       "      <th></th>\n",
       "      <th>video</th>\n",
       "      <th>start_frame</th>\n",
       "      <th>end_frame</th>\n",
       "      <th>knee_angle_mean</th>\n",
       "      <th>knee_angle_std</th>\n",
       "      <th>trunk_incl_mean</th>\n",
       "      <th>trunk_incl_std</th>\n",
       "      <th>dist_sh_hip_mean</th>\n",
       "      <th>dist_sh_hip_std</th>\n",
       "      <th>actividad</th>\n",
       "    </tr>\n",
       "  </thead>\n",
       "  <tbody>\n",
       "    <tr>\n",
       "      <th>0</th>\n",
       "      <td>Video 1.mp4</td>\n",
       "      <td>0</td>\n",
       "      <td>14</td>\n",
       "      <td>130.628125</td>\n",
       "      <td>2.872056</td>\n",
       "      <td>13.445633</td>\n",
       "      <td>0.349988</td>\n",
       "      <td>0.085713</td>\n",
       "      <td>0.000753</td>\n",
       "      <td>sentado</td>\n",
       "    </tr>\n",
       "    <tr>\n",
       "      <th>1</th>\n",
       "      <td>Video 1.mp4</td>\n",
       "      <td>7</td>\n",
       "      <td>21</td>\n",
       "      <td>137.670738</td>\n",
       "      <td>6.494605</td>\n",
       "      <td>15.133279</td>\n",
       "      <td>1.784241</td>\n",
       "      <td>0.083579</td>\n",
       "      <td>0.002886</td>\n",
       "      <td>sentado</td>\n",
       "    </tr>\n",
       "    <tr>\n",
       "      <th>2</th>\n",
       "      <td>Video 1.mp4</td>\n",
       "      <td>14</td>\n",
       "      <td>28</td>\n",
       "      <td>139.084214</td>\n",
       "      <td>7.027328</td>\n",
       "      <td>16.858814</td>\n",
       "      <td>1.088131</td>\n",
       "      <td>0.075826</td>\n",
       "      <td>0.008015</td>\n",
       "      <td>parandose</td>\n",
       "    </tr>\n",
       "    <tr>\n",
       "      <th>3</th>\n",
       "      <td>Video 1.mp4</td>\n",
       "      <td>21</td>\n",
       "      <td>35</td>\n",
       "      <td>146.722123</td>\n",
       "      <td>13.878174</td>\n",
       "      <td>15.854600</td>\n",
       "      <td>1.880550</td>\n",
       "      <td>0.070252</td>\n",
       "      <td>0.006627</td>\n",
       "      <td>parandose</td>\n",
       "    </tr>\n",
       "    <tr>\n",
       "      <th>4</th>\n",
       "      <td>Video 1.mp4</td>\n",
       "      <td>28</td>\n",
       "      <td>42</td>\n",
       "      <td>165.366983</td>\n",
       "      <td>8.949651</td>\n",
       "      <td>13.866931</td>\n",
       "      <td>1.522714</td>\n",
       "      <td>0.081177</td>\n",
       "      <td>0.014008</td>\n",
       "      <td>parandose</td>\n",
       "    </tr>\n",
       "  </tbody>\n",
       "</table>\n",
       "</div>"
      ],
      "text/plain": [
       "         video  start_frame  end_frame  knee_angle_mean  knee_angle_std  \\\n",
       "0  Video 1.mp4            0         14       130.628125        2.872056   \n",
       "1  Video 1.mp4            7         21       137.670738        6.494605   \n",
       "2  Video 1.mp4           14         28       139.084214        7.027328   \n",
       "3  Video 1.mp4           21         35       146.722123       13.878174   \n",
       "4  Video 1.mp4           28         42       165.366983        8.949651   \n",
       "\n",
       "   trunk_incl_mean  trunk_incl_std  dist_sh_hip_mean  dist_sh_hip_std  \\\n",
       "0        13.445633        0.349988          0.085713         0.000753   \n",
       "1        15.133279        1.784241          0.083579         0.002886   \n",
       "2        16.858814        1.088131          0.075826         0.008015   \n",
       "3        15.854600        1.880550          0.070252         0.006627   \n",
       "4        13.866931        1.522714          0.081177         0.014008   \n",
       "\n",
       "   actividad  \n",
       "0    sentado  \n",
       "1    sentado  \n",
       "2  parandose  \n",
       "3  parandose  \n",
       "4  parandose  "
      ]
     },
     "execution_count": 13,
     "metadata": {},
     "output_type": "execute_result"
    }
   ],
   "source": [
    "import pandas as pd\n",
    "import numpy as np\n",
    "from pathlib import Path\n",
    "from sklearn.ensemble import RandomForestClassifier\n",
    "from sklearn.model_selection import train_test_split\n",
    "from sklearn.metrics import classification_report, confusion_matrix\n",
    "import joblib\n",
    "\n",
    "# Ruta al dataset de features\n",
    "features_path = Path('../results/features.csv')\n",
    "\n",
    "# Cargar el dataset\n",
    "df = pd.read_csv(features_path)\n",
    "print(f\"Shape: {df.shape}\")\n",
    "df.head()"
   ]
  },
  {
   "cell_type": "code",
   "execution_count": 19,
   "id": "87935d85",
   "metadata": {},
   "outputs": [
    {
     "name": "stdout",
     "output_type": "stream",
     "text": [
      "Label mapping: {0: 'caminado atras', 1: 'caminando adelante', 2: 'girando', 3: 'parado', 4: 'parandose', 5: 'sentado', 6: 'sentandose'}\n"
     ]
    }
   ],
   "source": [
    "# Eliminar filas con nulos (si hay)\n",
    "df = df.dropna()\n",
    "\n",
    "# Eliminar columnas no numéricas (video y actividad)\n",
    "X = df.drop(columns=['video', 'actividad'])\n",
    "y = df['actividad']\n",
    "\n",
    "# Codificar etiquetas si no son numéricas\n",
    "y_encoded = y.astype('category').cat.codes\n",
    "label_mapping = dict(enumerate(y.astype('category').cat.categories))\n",
    "print(\"Label mapping:\", label_mapping)"
   ]
  },
  {
   "cell_type": "code",
   "execution_count": 20,
   "id": "2a2b612f",
   "metadata": {},
   "outputs": [
    {
     "name": "stdout",
     "output_type": "stream",
     "text": [
      "Train shape: (431, 8), Test shape: (108, 8)\n"
     ]
    }
   ],
   "source": [
    "# Split estratificado en train/test\n",
    "X_train, X_test, y_train, y_test = train_test_split(\n",
    "    X, y_encoded, test_size=0.2, random_state=42, stratify=y_encoded)\n",
    "\n",
    "print(f\"Train shape: {X_train.shape}, Test shape: {X_test.shape}\")"
   ]
  },
  {
   "cell_type": "code",
   "execution_count": 21,
   "id": "422e4564",
   "metadata": {},
   "outputs": [
    {
     "name": "stdout",
     "output_type": "stream",
     "text": [
      "Score en train: 1.000\n",
      "Score en test: 0.824\n"
     ]
    }
   ],
   "source": [
    "# Entrenar Random Forest\n",
    "clf = RandomForestClassifier(n_estimators=100, max_depth=None, random_state=42)\n",
    "clf.fit(X_train, y_train)\n",
    "\n",
    "print(f\"Score en train: {clf.score(X_train, y_train):.3f}\")\n",
    "print(f\"Score en test: {clf.score(X_test, y_test):.3f}\")"
   ]
  },
  {
   "cell_type": "code",
   "execution_count": 22,
   "id": "d5ec6753",
   "metadata": {},
   "outputs": [
    {
     "name": "stdout",
     "output_type": "stream",
     "text": [
      "\n",
      "Reporte de clasificación:\n",
      "                    precision    recall  f1-score   support\n",
      "\n",
      "    caminado atras       0.89      1.00      0.94        16\n",
      "caminando adelante       0.86      0.92      0.89        26\n",
      "           girando       0.70      0.86      0.78        22\n",
      "            parado       0.75      0.33      0.46         9\n",
      "         parandose       0.86      0.86      0.86        14\n",
      "           sentado       0.82      0.82      0.82        11\n",
      "        sentandose       1.00      0.60      0.75        10\n",
      "\n",
      "          accuracy                           0.82       108\n",
      "         macro avg       0.84      0.77      0.78       108\n",
      "      weighted avg       0.83      0.82      0.81       108\n",
      "\n",
      "\n",
      "Matriz de confusión:\n",
      "[[16  0  0  0  0  0  0]\n",
      " [ 0 24  2  0  0  0  0]\n",
      " [ 2  0 19  0  1  0  0]\n",
      " [ 0  3  3  3  0  0  0]\n",
      " [ 0  1  0  1 12  0  0]\n",
      " [ 0  0  1  0  1  9  0]\n",
      " [ 0  0  2  0  0  2  6]]\n"
     ]
    }
   ],
   "source": [
    "# Evaluación: métricas y matriz de confusión\n",
    "y_pred = clf.predict(X_test)\n",
    "\n",
    "print(\"\\nReporte de clasificación:\")\n",
    "print(classification_report(y_test, y_pred, target_names=[label_mapping[i] for i in sorted(label_mapping)]))\n",
    "\n",
    "print(\"\\nMatriz de confusión:\")\n",
    "print(confusion_matrix(y_test, y_pred))"
   ]
  },
  {
   "cell_type": "code",
   "execution_count": 23,
   "id": "aa99f3dd",
   "metadata": {},
   "outputs": [
    {
     "name": "stdout",
     "output_type": "stream",
     "text": [
      "Modelo guardado en: ..\\results\\random_forest_model.joblib\n",
      "Reporte de métricas guardado en ../results/random_forest_metrics.json\n"
     ]
    }
   ],
   "source": [
    "# Guardar el modelo y las métricas\n",
    "from sklearn.metrics import classification_report\n",
    "import json\n",
    "\n",
    "# Guardar modelo\n",
    "Path('../results').mkdir(exist_ok=True)\n",
    "model_path = Path('../results/random_forest_model.joblib')\n",
    "joblib.dump(clf, model_path)\n",
    "print(f\"Modelo guardado en: {model_path}\")\n",
    "\n",
    "# Guardar reporte de clasificación\n",
    "report = classification_report(y_test, y_pred, target_names=[label_mapping[i] for i in sorted(label_mapping)], output_dict=True)\n",
    "with open('../results/random_forest_metrics.json', 'w', encoding='utf-8') as f:\n",
    "    json.dump(report, f, indent=2, ensure_ascii=False)\n",
    "print(\"Reporte de métricas guardado en ../results/random_forest_metrics.json\")"
   ]
  }
 ],
 "metadata": {
  "kernelspec": {
   "display_name": ".venv",
   "language": "python",
   "name": "python3"
  },
  "language_info": {
   "codemirror_mode": {
    "name": "ipython",
    "version": 3
   },
   "file_extension": ".py",
   "mimetype": "text/x-python",
   "name": "python",
   "nbconvert_exporter": "python",
   "pygments_lexer": "ipython3",
   "version": "3.12.5"
  }
 },
 "nbformat": 4,
 "nbformat_minor": 5
}
