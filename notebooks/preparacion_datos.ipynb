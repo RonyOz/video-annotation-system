{
 "cells": [
  {
   "cell_type": "markdown",
   "id": "427fde1b",
   "metadata": {},
   "source": [
    "# Preparación de datos: etiquetas de actividades por video\n",
    "\n",
    "Este notebook procesa el JSON exportado de Label Studio y genera un archivo tabular (CSV) con las etiquetas de actividad por rango de frames para cada video."
   ]
  },
  {
   "cell_type": "code",
   "execution_count": 6,
   "id": "c0b73a24",
   "metadata": {},
   "outputs": [
    {
     "name": "stdout",
     "output_type": "stream",
     "text": [
      "Total de videos anotados: 11\n"
     ]
    }
   ],
   "source": [
    "import json\n",
    "import pandas as pd\n",
    "from pathlib import Path\n",
    "\n",
    "# Ruta al archivo JSON exportado de Label Studio\n",
    "json_path = Path('../results/project-1-at-2025-10-17-18-57-0eeb7784.json')\n",
    "\n",
    "with open(json_path, 'r', encoding='utf-8') as f:\n",
    "    data = json.load(f)\n",
    "\n",
    "print(f\"Total de videos anotados: {len(data)}\")"
   ]
  },
  {
   "cell_type": "code",
   "execution_count": 7,
   "id": "b314a5ce",
   "metadata": {},
   "outputs": [
    {
     "data": {
      "text/html": [
       "<div>\n",
       "<style scoped>\n",
       "    .dataframe tbody tr th:only-of-type {\n",
       "        vertical-align: middle;\n",
       "    }\n",
       "\n",
       "    .dataframe tbody tr th {\n",
       "        vertical-align: top;\n",
       "    }\n",
       "\n",
       "    .dataframe thead th {\n",
       "        text-align: right;\n",
       "    }\n",
       "</style>\n",
       "<table border=\"1\" class=\"dataframe\">\n",
       "  <thead>\n",
       "    <tr style=\"text-align: right;\">\n",
       "      <th></th>\n",
       "      <th>video</th>\n",
       "      <th>start_frame</th>\n",
       "      <th>end_frame</th>\n",
       "      <th>actividad</th>\n",
       "    </tr>\n",
       "  </thead>\n",
       "  <tbody>\n",
       "    <tr>\n",
       "      <th>0</th>\n",
       "      <td>a327f941-Video_1.mp4</td>\n",
       "      <td>18</td>\n",
       "      <td>37</td>\n",
       "      <td>parandose</td>\n",
       "    </tr>\n",
       "    <tr>\n",
       "      <th>1</th>\n",
       "      <td>a327f941-Video_1.mp4</td>\n",
       "      <td>1</td>\n",
       "      <td>18</td>\n",
       "      <td>sentado</td>\n",
       "    </tr>\n",
       "    <tr>\n",
       "      <th>2</th>\n",
       "      <td>a327f941-Video_1.mp4</td>\n",
       "      <td>37</td>\n",
       "      <td>40</td>\n",
       "      <td>parado</td>\n",
       "    </tr>\n",
       "    <tr>\n",
       "      <th>3</th>\n",
       "      <td>a327f941-Video_1.mp4</td>\n",
       "      <td>40</td>\n",
       "      <td>119</td>\n",
       "      <td>caminando adelante</td>\n",
       "    </tr>\n",
       "    <tr>\n",
       "      <th>4</th>\n",
       "      <td>a327f941-Video_1.mp4</td>\n",
       "      <td>120</td>\n",
       "      <td>155</td>\n",
       "      <td>girando</td>\n",
       "    </tr>\n",
       "  </tbody>\n",
       "</table>\n",
       "</div>"
      ],
      "text/plain": [
       "                  video  start_frame  end_frame           actividad\n",
       "0  a327f941-Video_1.mp4           18         37           parandose\n",
       "1  a327f941-Video_1.mp4            1         18             sentado\n",
       "2  a327f941-Video_1.mp4           37         40              parado\n",
       "3  a327f941-Video_1.mp4           40        119  caminando adelante\n",
       "4  a327f941-Video_1.mp4          120        155             girando"
      ]
     },
     "execution_count": 7,
     "metadata": {},
     "output_type": "execute_result"
    }
   ],
   "source": [
    "# Extraer etiquetas por video y rango de frames\n",
    "data_rows = []\n",
    "\n",
    "for item in data:\n",
    "    video_file = item.get('file_upload', '')\n",
    "    annotations = item.get('annotations', [])\n",
    "    if not annotations:\n",
    "        continue\n",
    "    # Tomar la primera anotación (asumimos una por video)\n",
    "    results = annotations[0].get('result', [])\n",
    "    for r in results:\n",
    "        label = r['value']['timelinelabels'][0]\n",
    "        for rng in r['value']['ranges']:\n",
    "            start = rng['start']\n",
    "            end = rng['end']\n",
    "            data_rows.append({\n",
    "                'video': video_file,\n",
    "                'start_frame': start,\n",
    "                'end_frame': end,\n",
    "                'actividad': label\n",
    "            })\n",
    "\n",
    "df = pd.DataFrame(data_rows)\n",
    "df.head()"
   ]
  },
  {
   "cell_type": "code",
   "execution_count": 8,
   "id": "30830fad",
   "metadata": {},
   "outputs": [
    {
     "name": "stdout",
     "output_type": "stream",
     "text": [
      "CSV guardado en: ..\\results\\labels_por_rango.csv\n",
      "\n",
      "Actividades encontradas:\n",
      "actividad\n",
      "parado                28\n",
      "girando               23\n",
      "sentado               22\n",
      "parandose             19\n",
      "caminando adelante    13\n",
      "sentandose            11\n",
      "caminado atras        10\n",
      "Name: count, dtype: int64\n",
      "\n",
      "Videos únicos:\n",
      "11\n"
     ]
    }
   ],
   "source": [
    "# Guardar el DataFrame como CSV para el pipeline\n",
    "output_path = Path('../results/labels_por_rango.csv')\n",
    "output_path.parent.mkdir(parents=True, exist_ok=True)\n",
    "df.to_csv(output_path, index=False, encoding='utf-8')\n",
    "print(f\"CSV guardado en: {output_path}\")\n",
    "\n",
    "# Resumen rápido\n",
    "print(\"\\nActividades encontradas:\")\n",
    "print(df['actividad'].value_counts())\n",
    "print(\"\\nVideos únicos:\")\n",
    "print(df['video'].nunique())"
   ]
  }
 ],
 "metadata": {
  "kernelspec": {
   "display_name": ".venv",
   "language": "python",
   "name": "python3"
  },
  "language_info": {
   "codemirror_mode": {
    "name": "ipython",
    "version": 3
   },
   "file_extension": ".py",
   "mimetype": "text/x-python",
   "name": "python",
   "nbconvert_exporter": "python",
   "pygments_lexer": "ipython3",
   "version": "3.12.5"
  }
 },
 "nbformat": 4,
 "nbformat_minor": 5
}
