{
 "cells": [
  {
   "cell_type": "markdown",
   "id": "dcbec8b7",
   "metadata": {},
   "source": [
    "# Análisis Exploratorio de Videos"
   ]
  },
  {
   "cell_type": "code",
   "execution_count": 1,
   "id": "11c8ea87",
   "metadata": {},
   "outputs": [],
   "source": [
    "import os\n",
    "from pathlib import Path\n",
    "from datetime import datetime\n",
    "import json"
   ]
  },
  {
   "cell_type": "code",
   "execution_count": 2,
   "id": "9edfbb1c",
   "metadata": {},
   "outputs": [],
   "source": [
    "def get_video_files(directory):\n",
    "    \"\"\"Obtiene todos los archivos de video en el directorio.\"\"\"\n",
    "    video_extensions = ['.mp4', '.avi', '.mov', '.mkv', '.wmv', '.flv']\n",
    "    videos = []\n",
    "    \n",
    "    if not os.path.exists(directory):\n",
    "        print(f\"Directorio no encontrado: {directory}\")\n",
    "        return videos\n",
    "    \n",
    "    for root, dirs, files in os.walk(directory):\n",
    "        for file in files:\n",
    "            if any(file.lower().endswith(ext) for ext in video_extensions):\n",
    "                videos.append(os.path.join(root, file))\n",
    "    \n",
    "    return videos"
   ]
  },
  {
   "cell_type": "code",
   "execution_count": 3,
   "id": "52ad90c0",
   "metadata": {},
   "outputs": [],
   "source": [
    "def analyze_video_metadata(video_path):\n",
    "    \"\"\"Analiza metadatos básicos de un archivo de video.\"\"\"\n",
    "    stats = os.stat(video_path)\n",
    "    \n",
    "    return {\n",
    "        'nombre': os.path.basename(video_path),\n",
    "        'ruta': video_path,\n",
    "        'tamaño_mb': round(stats.st_size / (1024 * 1024), 2),\n",
    "        'fecha_creacion': datetime.fromtimestamp(stats.st_ctime).strftime('%Y-%m-%d %H:%M:%S'),\n",
    "        'fecha_modificacion': datetime.fromtimestamp(stats.st_mtime).strftime('%Y-%m-%d %H:%M:%S'),\n",
    "        'extension': os.path.splitext(video_path)[1]\n",
    "    }"
   ]
  },
  {
   "cell_type": "markdown",
   "id": "9dedfac0",
   "metadata": {},
   "source": [
    "## Configuración\n",
    "\n",
    "Directorio donde están los videos:"
   ]
  },
  {
   "cell_type": "code",
   "execution_count": 4,
   "id": "4e956667",
   "metadata": {},
   "outputs": [],
   "source": [
    "# Directorio de videos\n",
    "video_directory = '../data/raw'"
   ]
  },
  {
   "cell_type": "markdown",
   "id": "22b19a29",
   "metadata": {},
   "source": [
    "## Análisis de Videos"
   ]
  },
  {
   "cell_type": "code",
   "execution_count": 5,
   "id": "caee23cc",
   "metadata": {},
   "outputs": [
    {
     "name": "stdout",
     "output_type": "stream",
     "text": [
      "======================================================================\n",
      "ANÁLISIS EXPLORATORIO DE VIDEOS\n",
      "======================================================================\n",
      "\n",
      "Total de videos encontrados: 2\n",
      "----------------------------------------------------------------------\n"
     ]
    }
   ],
   "source": [
    "print(\"=\"*70)\n",
    "print(\"ANÁLISIS EXPLORATORIO DE VIDEOS\")\n",
    "print(\"=\"*70)\n",
    "\n",
    "# Obtener videos\n",
    "videos = get_video_files(video_directory)\n",
    "\n",
    "if not videos:\n",
    "    print(f\"\\nNo se encontraron videos en: {video_directory}\")\n",
    "else:\n",
    "    print(f\"\\nTotal de videos encontrados: {len(videos)}\")\n",
    "    print(\"-\"*70)"
   ]
  },
  {
   "cell_type": "markdown",
   "id": "c1c58378",
   "metadata": {},
   "source": [
    "## Análisis de Metadatos"
   ]
  },
  {
   "cell_type": "code",
   "execution_count": 6,
   "id": "e516ccdd",
   "metadata": {},
   "outputs": [],
   "source": [
    "if videos:\n",
    "    # Analizar cada video\n",
    "    video_data = []\n",
    "    total_size = 0\n",
    "    \n",
    "    for video_path in videos:\n",
    "        metadata = analyze_video_metadata(video_path)\n",
    "        video_data.append(metadata)\n",
    "        total_size += metadata['tamaño_mb']\n",
    "    \n",
    "    # Resumen por extensión\n",
    "    extensions = {}\n",
    "    for vd in video_data:\n",
    "        ext = vd['extension']\n",
    "        extensions[ext] = extensions.get(ext, 0) + 1"
   ]
  },
  {
   "cell_type": "markdown",
   "id": "d72df774",
   "metadata": {},
   "source": [
    "## 1. Resumen General"
   ]
  },
  {
   "cell_type": "code",
   "execution_count": 7,
   "id": "e10bdbe9",
   "metadata": {},
   "outputs": [
    {
     "name": "stdout",
     "output_type": "stream",
     "text": [
      "\n",
      "1. RESUMEN GENERAL\n",
      "----------------------------------------------------------------------\n",
      "Total de videos: 2\n",
      "Tamaño total: 2.24 MB (0.00 GB)\n",
      "Tamaño promedio: 1.12 MB\n"
     ]
    }
   ],
   "source": [
    "if videos:\n",
    "    print(\"\\n1. RESUMEN GENERAL\")\n",
    "    print(\"-\"*70)\n",
    "    print(f\"Total de videos: {len(videos)}\")\n",
    "    print(f\"Tamaño total: {total_size:.2f} MB ({total_size/1024:.2f} GB)\")\n",
    "    print(f\"Tamaño promedio: {total_size/len(videos):.2f} MB\")"
   ]
  },
  {
   "cell_type": "markdown",
   "id": "46a4eeb5",
   "metadata": {},
   "source": [
    "## 2. Distribución por Formato"
   ]
  },
  {
   "cell_type": "code",
   "execution_count": 8,
   "id": "6a9390b6",
   "metadata": {},
   "outputs": [
    {
     "name": "stdout",
     "output_type": "stream",
     "text": [
      "\n",
      "2. DISTRIBUCIÓN POR FORMATO\n",
      "----------------------------------------------------------------------\n",
      ".mp4: 2 archivos\n"
     ]
    }
   ],
   "source": [
    "if videos:\n",
    "    print(\"\\n2. DISTRIBUCIÓN POR FORMATO\")\n",
    "    print(\"-\"*70)\n",
    "    for ext, count in sorted(extensions.items()):\n",
    "        print(f\"{ext}: {count} archivos\")"
   ]
  },
  {
   "cell_type": "markdown",
   "id": "71622534",
   "metadata": {},
   "source": [
    "## 3. Listado Detallado de Videos"
   ]
  },
  {
   "cell_type": "code",
   "execution_count": 9,
   "id": "5d1dc4af",
   "metadata": {},
   "outputs": [
    {
     "name": "stdout",
     "output_type": "stream",
     "text": [
      "\n",
      "3. LISTADO DETALLADO DE VIDEOS\n",
      "----------------------------------------------------------------------\n",
      "\n",
      "1. Generated video 1.mp4\n",
      "   Tamaño: 1.16 MB\n",
      "   Formato: .mp4\n",
      "   Creado: 2025-10-11 18:01:01\n",
      "\n",
      "2. Generated video 2.mp4\n",
      "   Tamaño: 1.08 MB\n",
      "   Formato: .mp4\n",
      "   Creado: 2025-10-11 18:01:01\n"
     ]
    }
   ],
   "source": [
    "if videos:\n",
    "    print(\"\\n3. LISTADO DETALLADO DE VIDEOS\")\n",
    "    print(\"-\"*70)\n",
    "    for i, vd in enumerate(video_data, 1):\n",
    "        print(f\"\\n{i}. {vd['nombre']}\")\n",
    "        print(f\"   Tamaño: {vd['tamaño_mb']} MB\")\n",
    "        print(f\"   Formato: {vd['extension']}\")\n",
    "        print(f\"   Creado: {vd['fecha_creacion']}\")"
   ]
  },
  {
   "cell_type": "markdown",
   "id": "43514293",
   "metadata": {},
   "source": [
    "## Guardar Reporte JSON"
   ]
  },
  {
   "cell_type": "code",
   "execution_count": 10,
   "id": "d1fb27cf",
   "metadata": {},
   "outputs": [],
   "source": [
    "# if videos:\n",
    "#     # Guardar reporte en JSON\n",
    "#     output_file = '../results/video_eda_report.json'\n",
    "#     os.makedirs('../results', exist_ok=True)\n",
    "    \n",
    "#     report_data = {\n",
    "#         'fecha_analisis': datetime.now().strftime('%Y-%m-%d %H:%M:%S'),\n",
    "#         'directorio': video_directory,\n",
    "#         'total_videos': len(videos),\n",
    "#         'tamaño_total_mb': round(total_size, 2),\n",
    "#         'formatos': extensions,\n",
    "#         'videos': video_data\n",
    "#     }\n",
    "    \n",
    "#     with open(output_file, 'w', encoding='utf-8') as f:\n",
    "#         json.dump(report_data, f, indent=4, ensure_ascii=False)\n",
    "    \n",
    "#     print(f\"\\n{'='*70}\")\n",
    "#     print(f\"Reporte guardado en: {output_file}\")\n",
    "#     print(\"=\"*70)"
   ]
  }
 ],
 "metadata": {
  "kernelspec": {
   "display_name": "Python 3",
   "language": "python",
   "name": "python3"
  },
  "language_info": {
   "codemirror_mode": {
    "name": "ipython",
    "version": 3
   },
   "file_extension": ".py",
   "mimetype": "text/x-python",
   "name": "python",
   "nbconvert_exporter": "python",
   "pygments_lexer": "ipython3",
   "version": "3.12.5"
  }
 },
 "nbformat": 4,
 "nbformat_minor": 5
}
