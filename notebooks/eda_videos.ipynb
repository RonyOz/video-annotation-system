{
 "cells": [
  {
   "cell_type": "markdown",
   "id": "dcbec8b7",
   "metadata": {},
   "source": [
    "# Análisis Exploratorio de Videos"
   ]
  },
  {
   "cell_type": "code",
   "execution_count": 1,
   "id": "11c8ea87",
   "metadata": {},
   "outputs": [],
   "source": [
    "import os\n",
    "from pathlib import Path\n",
    "from datetime import datetime\n",
    "import json"
   ]
  },
  {
   "cell_type": "code",
   "execution_count": 2,
   "id": "9edfbb1c",
   "metadata": {},
   "outputs": [],
   "source": [
    "def get_video_files(directory):\n",
    "    \"\"\"Obtiene todos los archivos de video en el directorio.\"\"\"\n",
    "    video_extensions = ['.mp4', '.avi', '.mov', '.mkv', '.wmv', '.flv']\n",
    "    videos = []\n",
    "    \n",
    "    if not os.path.exists(directory):\n",
    "        print(f\"Directorio no encontrado: {directory}\")\n",
    "        return videos\n",
    "    \n",
    "    for root, dirs, files in os.walk(directory):\n",
    "        for file in files:\n",
    "            if any(file.lower().endswith(ext) for ext in video_extensions):\n",
    "                videos.append(os.path.join(root, file))\n",
    "    \n",
    "    return videos"
   ]
  },
  {
   "cell_type": "code",
   "execution_count": 3,
   "id": "52ad90c0",
   "metadata": {},
   "outputs": [],
   "source": [
    "def analyze_video_metadata(video_path):\n",
    "    \"\"\"Analiza metadatos básicos de un archivo de video.\"\"\"\n",
    "    stats = os.stat(video_path)\n",
    "    \n",
    "    return {\n",
    "        'nombre': os.path.basename(video_path),\n",
    "        'ruta': video_path,\n",
    "        'tamaño_mb': round(stats.st_size / (1024 * 1024), 2),\n",
    "        'fecha_creacion': datetime.fromtimestamp(stats.st_ctime).strftime('%Y-%m-%d %H:%M:%S'),\n",
    "        'fecha_modificacion': datetime.fromtimestamp(stats.st_mtime).strftime('%Y-%m-%d %H:%M:%S'),\n",
    "        'extension': os.path.splitext(video_path)[1]\n",
    "    }"
   ]
  },
  {
   "cell_type": "markdown",
   "id": "9dedfac0",
   "metadata": {},
   "source": [
    "## Configuración\n",
    "\n",
    "Directorio donde están los videos:"
   ]
  },
  {
   "cell_type": "code",
   "execution_count": 4,
   "id": "4e956667",
   "metadata": {},
   "outputs": [],
   "source": [
    "# Directorio de videos\n",
    "video_directory = '../data'"
   ]
  },
  {
   "cell_type": "markdown",
   "id": "22b19a29",
   "metadata": {},
   "source": [
    "## Análisis de Videos"
   ]
  },
  {
   "cell_type": "code",
   "execution_count": 10,
   "id": "caee23cc",
   "metadata": {},
   "outputs": [
    {
     "name": "stdout",
     "output_type": "stream",
     "text": [
      "======================================================================\n",
      "ANÁLISIS EXPLORATORIO DE VIDEOS\n",
      "======================================================================\n",
      "Video 12.mp4\n",
      "Video 13.mp4\n",
      "Video 11.mp4\n",
      "Video 10.mp4\n",
      "Video 14.mp4\n",
      "Video 15.mp4\n",
      "Video 17.mp4\n",
      "Video 16.mp4\n",
      "Video 8.mp4\n",
      "Video 9.mp4\n",
      "Video 1.mp4\n",
      "Video 2.mp4\n",
      "Video 3.mp4\n",
      "Video 7.mp4\n",
      "Video 6.mp4\n",
      "Video 4.mp4\n",
      "Video 5.mp4\n",
      "Video 18.mp4\n",
      "\n",
      "Total de videos encontrados: 18\n",
      "----------------------------------------------------------------------\n"
     ]
    }
   ],
   "source": [
    "print(\"=\"*70)\n",
    "print(\"ANÁLISIS EXPLORATORIO DE VIDEOS\")\n",
    "print(\"=\"*70)\n",
    "\n",
    "# Obtener videos\n",
    "videos = get_video_files(video_directory)\n",
    "\n",
    "if not videos:\n",
    "    print(f\"\\nNo se encontraron videos en: {video_directory}\")\n",
    "else:\n",
    "    for video in videos:\n",
    "        print(os.path.basename(video))\n",
    "    print(f\"\\nTotal de videos encontrados: {len(videos)}\")\n",
    "    print(\"-\"*70)"
   ]
  },
  {
   "cell_type": "markdown",
   "id": "c1c58378",
   "metadata": {},
   "source": [
    "## Análisis de Metadatos"
   ]
  },
  {
   "cell_type": "code",
   "execution_count": 11,
   "id": "e516ccdd",
   "metadata": {},
   "outputs": [],
   "source": [
    "if videos:\n",
    "    # Analizar cada video\n",
    "    video_data = []\n",
    "    total_size = 0\n",
    "    \n",
    "    for video_path in videos:\n",
    "        metadata = analyze_video_metadata(video_path)\n",
    "        video_data.append(metadata)\n",
    "        total_size += metadata['tamaño_mb']\n",
    "    \n",
    "    # Resumen por extensión\n",
    "    extensions = {}\n",
    "    for vd in video_data:\n",
    "        ext = vd['extension']\n",
    "        extensions[ext] = extensions.get(ext, 0) + 1"
   ]
  },
  {
   "cell_type": "markdown",
   "id": "d72df774",
   "metadata": {},
   "source": [
    "## 1. Resumen General"
   ]
  },
  {
   "cell_type": "code",
   "execution_count": 12,
   "id": "e10bdbe9",
   "metadata": {},
   "outputs": [
    {
     "name": "stdout",
     "output_type": "stream",
     "text": [
      "\n",
      "1. RESUMEN GENERAL\n",
      "----------------------------------------------------------------------\n",
      "Total de videos: 18\n",
      "Tamaño total: 39.78 MB (0.04 GB)\n",
      "Tamaño promedio: 2.21 MB\n"
     ]
    }
   ],
   "source": [
    "if videos:\n",
    "    print(\"\\n1. RESUMEN GENERAL\")\n",
    "    print(\"-\"*70)\n",
    "    print(f\"Total de videos: {len(videos)}\")\n",
    "    print(f\"Tamaño total: {total_size:.2f} MB ({total_size/1024:.2f} GB)\")\n",
    "    print(f\"Tamaño promedio: {total_size/len(videos):.2f} MB\")"
   ]
  },
  {
   "cell_type": "markdown",
   "id": "46a4eeb5",
   "metadata": {},
   "source": [
    "## 2. Distribución por Formato"
   ]
  },
  {
   "cell_type": "code",
   "execution_count": 13,
   "id": "6a9390b6",
   "metadata": {},
   "outputs": [
    {
     "name": "stdout",
     "output_type": "stream",
     "text": [
      "\n",
      "2. DISTRIBUCIÓN POR FORMATO\n",
      "----------------------------------------------------------------------\n",
      ".mp4: 18 archivos\n"
     ]
    }
   ],
   "source": [
    "if videos:\n",
    "    print(\"\\n2. DISTRIBUCIÓN POR FORMATO\")\n",
    "    print(\"-\"*70)\n",
    "    for ext, count in sorted(extensions.items()):\n",
    "        print(f\"{ext}: {count} archivos\")"
   ]
  },
  {
   "cell_type": "markdown",
   "id": "71622534",
   "metadata": {},
   "source": [
    "## 3. Listado Detallado de Videos"
   ]
  },
  {
   "cell_type": "code",
   "execution_count": null,
   "id": "5d1dc4af",
   "metadata": {},
   "outputs": [
    {
     "name": "stdout",
     "output_type": "stream",
     "text": [
      "\n",
      "3. LISTADO DETALLADO DE VIDEOS\n",
      "----------------------------------------------------------------------\n",
      "\n",
      "1. Video 12.mp4\n",
      "   Tamaño: 3.36 MB\n",
      "   Formato: .mp4\n",
      "   Creado: 2025-10-17 12:13:06\n",
      "\n",
      "2. Video 13.mp4\n",
      "   Tamaño: 1.9 MB\n",
      "   Formato: .mp4\n",
      "   Creado: 2025-10-17 12:13:06\n",
      "\n",
      "3. Video 11.mp4\n",
      "   Tamaño: 2.74 MB\n",
      "   Formato: .mp4\n",
      "   Creado: 2025-10-17 12:13:06\n",
      "\n",
      "4. Video 10.mp4\n",
      "   Tamaño: 1.9 MB\n",
      "   Formato: .mp4\n",
      "   Creado: 2025-10-17 12:13:06\n",
      "\n",
      "5. Video 14.mp4\n",
      "   Tamaño: 2.23 MB\n",
      "   Formato: .mp4\n",
      "   Creado: 2025-10-17 12:13:06\n",
      "\n",
      "6. Video 15.mp4\n",
      "   Tamaño: 2.15 MB\n",
      "   Formato: .mp4\n",
      "   Creado: 2025-10-17 12:13:06\n",
      "\n",
      "7. Video 17.mp4\n",
      "   Tamaño: 2.2 MB\n",
      "   Formato: .mp4\n",
      "   Creado: 2025-10-17 12:13:06\n",
      "\n",
      "8. Video 16.mp4\n",
      "   Tamaño: 2.53 MB\n",
      "   Formato: .mp4\n",
      "   Creado: 2025-10-17 12:13:06\n",
      "\n",
      "9. Video 8.mp4\n",
      "   Tamaño: 1.81 MB\n",
      "   Formato: .mp4\n",
      "   Creado: 2025-10-17 12:13:06\n",
      "\n",
      "10. Video 9.mp4\n",
      "   Tamaño: 2.06 MB\n",
      "   Formato: .mp4\n",
      "   Creado: 2025-10-17 12:13:06\n",
      "\n",
      "11. Video 1.mp4\n",
      "   Tamaño: 2.06 MB\n",
      "   Formato: .mp4\n",
      "   Creado: 2025-10-17 12:13:06\n",
      "\n",
      "12. Video 2.mp4\n",
      "   Tamaño: 2.31 MB\n",
      "   Formato: .mp4\n",
      "   Creado: 2025-10-17 12:13:06\n",
      "\n",
      "13. Video 3.mp4\n",
      "   Tamaño: 1.69 MB\n",
      "   Formato: .mp4\n",
      "   Creado: 2025-10-17 12:13:06\n",
      "\n",
      "14. Video 7.mp4\n",
      "   Tamaño: 2.38 MB\n",
      "   Formato: .mp4\n",
      "   Creado: 2025-10-17 12:13:06\n",
      "\n",
      "15. Video 6.mp4\n",
      "   Tamaño: 1.91 MB\n",
      "   Formato: .mp4\n",
      "   Creado: 2025-10-17 12:13:06\n",
      "\n",
      "16. Video 4.mp4\n",
      "   Tamaño: 2.25 MB\n",
      "   Formato: .mp4\n",
      "   Creado: 2025-10-17 12:13:06\n",
      "\n",
      "17. Video 5.mp4\n",
      "   Tamaño: 2.32 MB\n",
      "   Formato: .mp4\n",
      "   Creado: 2025-10-17 12:13:06\n",
      "\n",
      "18. Video 18.mp4\n",
      "   Tamaño: 1.98 MB\n",
      "   Formato: .mp4\n",
      "   Creado: 2025-10-17 12:13:06\n"
     ]
    }
   ],
   "source": [
    "if videos:\n",
    "    print(\"\\n3. LISTADO DETALLADO DE VIDEOS\")\n",
    "    print(\"-\"*70)\n",
    "    for i, vd in enumerate(video_data, 1):\n",
    "        print(f\"\\n{i}. {vd['nombre']}\")\n",
    "        print(f\"   Tamaño: {vd['tamaño_mb']} MB\")\n",
    "        print(f\"   Formato: {vd['extension']}\")\n",
    "        print(f\"   Creado: {vd['fecha_creacion']}\")\n"
   ]
  },
  {
   "cell_type": "markdown",
   "id": "43514293",
   "metadata": {},
   "source": [
    "## Guardar Reporte JSON"
   ]
  },
  {
   "cell_type": "code",
   "execution_count": null,
   "id": "d1fb27cf",
   "metadata": {},
   "outputs": [
    {
     "name": "stdout",
     "output_type": "stream",
     "text": [
      "\n",
      "======================================================================\n",
      "📁 Reporte exportado a: ../results/video_eda_report_20251017_122617.json\n",
      "======================================================================\n"
     ]
    }
   ],
   "source": [
    "def export_video_report_to_json(video_directory, videos, video_data, total_size, extensions, output_dir=\"../results\"):\n",
    "    \"\"\"\n",
    "    Exporta el análisis de videos a un archivo JSON.\n",
    "    \"\"\"\n",
    "    if not videos:\n",
    "        print(\"No hay videos para exportar.\")\n",
    "        return None\n",
    "\n",
    "    # Crear carpeta de salida si no existe\n",
    "    os.makedirs(output_dir, exist_ok=True)\n",
    "\n",
    "    # Nombre del archivo con fecha y hora\n",
    "    timestamp = datetime.now().strftime(\"%Y%m%d_%H%M%S\")\n",
    "    output_file = os.path.join(output_dir, f\"video_eda_report_{timestamp}.json\")\n",
    "\n",
    "    # Estructura del reporte\n",
    "    report_data = {\n",
    "        \"fecha_analisis\": datetime.now().strftime(\"%Y-%m-%d %H:%M:%S\"),\n",
    "        \"directorio\": os.path.abspath(video_directory),\n",
    "        \"total_videos\": len(videos),\n",
    "        \"tamaño_total_mb\": round(total_size, 2),\n",
    "        \"tamaño_total_gb\": round(total_size / 1024, 2),\n",
    "        \"tamaño_promedio_mb\": round(total_size / len(videos), 2),\n",
    "        \"formatos\": extensions,\n",
    "        \"videos\": video_data\n",
    "    }\n",
    "\n",
    "    # Guardar como JSON\n",
    "    with open(output_file, \"w\", encoding=\"utf-8\") as f:\n",
    "        json.dump(report_data, f, indent=4, ensure_ascii=False)\n",
    "\n",
    "    print(f\"\\n{'='*70}\")\n",
    "    print(f\"📁 Reporte exportado a: {output_file}\")\n",
    "    print(\"=\"*70)\n",
    "    \n",
    "    return output_file\n",
    "\n",
    "\n",
    "if videos:\n",
    "    export_video_report_to_json(video_directory, videos, video_data, total_size, extensions)\n"
   ]
  }
 ],
 "metadata": {
  "kernelspec": {
   "display_name": "Python 3",
   "language": "python",
   "name": "python3"
  },
  "language_info": {
   "codemirror_mode": {
    "name": "ipython",
    "version": 3
   },
   "file_extension": ".py",
   "mimetype": "text/x-python",
   "name": "python",
   "nbconvert_exporter": "python",
   "pygments_lexer": "ipython3",
   "version": "3.12.5"
  }
 },
 "nbformat": 4,
 "nbformat_minor": 5
}
